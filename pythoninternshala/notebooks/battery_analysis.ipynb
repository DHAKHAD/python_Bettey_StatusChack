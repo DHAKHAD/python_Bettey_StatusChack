{
 "cells": [
  {
   "cell_type": "markdown",
   "metadata": {},
   "source": [
    "3. Run Python scripts:\n",
    "\n"
   ]
  },
  {
   "cell_type": "code",
   "execution_count": null,
   "metadata": {
    "vscode": {
     "languageId": "plaintext"
    }
   },
   "outputs": [],
   "source": [
    "import pandas as pd\n",
    "from data_loader import load_battery_data, extract_eis_data\n",
    "from visualization import plot_3d_impedance, compute_dq_dv, plot_ica\n",
    "from model_training import train_model\n",
    "\n",
    "# Define file path\n",
    "filepath = \"../data/Battery_Data.csv\"\n",
    "\n",
    "# Load and process data\n",
    "data = load_battery_data(filepath)\n",
    "df = extract_eis_data(data)\n",
    "\n",
    "df.to_csv(\"../data/processed_battery_data.csv\", index=False)\n",
    "\n",
    "# Visualize EIS data in 3D\n",
    "plot_3d_impedance(df)\n",
    "\n",
    "# Perform Incremental Capacity Analysis\n",
    "Q, V = df['Charge'], df['Voltage']\n",
    "dq_dv = compute_dq_dv(Q, V)\n",
    "plot_ica(V, dq_dv, df['Cycle_Count'])\n",
    "\n",
    "# Train and evaluate model\n",
    "model = train_model(df)\n"
   ]
  }
 ],
 "metadata": {
  "language_info": {
   "name": "python"
  }
 },
 "nbformat": 4,
 "nbformat_minor": 2
}
